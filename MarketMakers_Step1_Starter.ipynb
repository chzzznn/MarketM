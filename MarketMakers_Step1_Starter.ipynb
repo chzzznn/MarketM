{
 "cells": [
  {
   "cell_type": "markdown",
   "id": "eec50ff1",
   "metadata": {},
   "source": [
    "# Market Makers & Mavericks: Core Simulation\n",
    "\n",
    "This notebook runs a basic market simulation using cards (assets), dice (market forces), and price movement logic."
   ]
  },
  {
   "cell_type": "code",
   "execution_count": 1,
   "id": "5a08381a",
   "metadata": {},
   "outputs": [],
   "source": [
    "import random\n",
    "import numpy as np\n",
    "from enum import Enum"
   ]
  },
  {
   "cell_type": "code",
   "execution_count": 2,
   "id": "267cdedf",
   "metadata": {},
   "outputs": [],
   "source": [
    "\n",
    "class CardType(Enum):\n",
    "    STOCK = \"stock\"\n",
    "    BOND = \"bond\"\n",
    "    COMMODITY = \"commodity\"\n",
    "    CRYPTO = \"crypto\"\n",
    "\n",
    "class Card:\n",
    "    def __init__(self, name, card_type: CardType, base_price, volatility):\n",
    "        self.name = name\n",
    "        self.card_type = card_type\n",
    "        self.base_price = base_price\n",
    "        self.current_price = base_price\n",
    "        self.volatility = volatility  # From 1 (low) to 6 (high)\n",
    "\n",
    "    def __repr__(self):\n",
    "        return f\"{self.name} (${self.current_price:.2f})\"\n"
   ]
  },
  {
   "cell_type": "code",
   "execution_count": 3,
   "id": "ee85bce3",
   "metadata": {},
   "outputs": [],
   "source": [
    "\n",
    "def roll_volatility_die():\n",
    "    return random.randint(1, 6)\n",
    "\n",
    "def roll_sentiment():\n",
    "    return random.choice([\"Bear\", \"Neutral\", \"Bull\"])\n",
    "\n",
    "def sentiment_multiplier(sentiment):\n",
    "    return {\"Bear\": 0.8, \"Neutral\": 1.0, \"Bull\": 1.2}[sentiment]\n"
   ]
  },
  {
   "cell_type": "code",
   "execution_count": 4,
   "id": "ef011a4b",
   "metadata": {},
   "outputs": [],
   "source": [
    "\n",
    "def update_price(card):\n",
    "    die = roll_volatility_die()\n",
    "    sentiment = roll_sentiment()\n",
    "    multiplier = sentiment_multiplier(sentiment)\n",
    "\n",
    "    change_percent = (die / 6) * card.volatility * multiplier\n",
    "    direction = 1 if random.random() > 0.5 else -1\n",
    "    delta = card.base_price * change_percent * direction\n",
    "    card.current_price = max(1, card.current_price + delta)  # Avoid negative price\n",
    "\n",
    "    print(f\"{card.name} [{sentiment}] rolls {die}, changes by {delta:.2f}\")\n",
    "    return card\n"
   ]
  },
  {
   "cell_type": "code",
   "execution_count": 5,
   "id": "65000bb1",
   "metadata": {},
   "outputs": [
    {
     "name": "stdout",
     "output_type": "stream",
     "text": [
      "Market Starting:\n",
      "TechCorp ($100.00)\n",
      "Gold Futures ($80.00)\n",
      "GovBond 10Y ($90.00)\n",
      "\n",
      "Simulating Market Round...\n",
      "TechCorp [Neutral] rolls 1, changes by 83.33\n",
      "Gold Futures [Bear] rolls 6, changes by -192.00\n",
      "GovBond 10Y [Bear] rolls 5, changes by 120.00\n",
      "\n",
      "Market After Round:\n",
      "TechCorp ($183.33)\n",
      "Gold Futures ($1.00)\n",
      "GovBond 10Y ($210.00)\n"
     ]
    }
   ],
   "source": [
    "\n",
    "assets = [\n",
    "    Card(\"TechCorp\", CardType.STOCK, base_price=100, volatility=5),\n",
    "    Card(\"Gold Futures\", CardType.COMMODITY, base_price=80, volatility=3),\n",
    "    Card(\"GovBond 10Y\", CardType.BOND, base_price=90, volatility=2)\n",
    "]\n",
    "\n",
    "print(\"Market Starting:\")\n",
    "for a in assets:\n",
    "    print(a)\n",
    "\n",
    "print(\"\\nSimulating Market Round...\")\n",
    "for a in assets:\n",
    "    update_price(a)\n",
    "\n",
    "print(\"\\nMarket After Round:\")\n",
    "for a in assets:\n",
    "    print(a)\n"
   ]
  }
 ],
 "metadata": {
  "kernelspec": {
   "display_name": "Python 3 (ipykernel)",
   "language": "python",
   "name": "python3"
  },
  "language_info": {
   "codemirror_mode": {
    "name": "ipython",
    "version": 3
   },
   "file_extension": ".py",
   "mimetype": "text/x-python",
   "name": "python",
   "nbconvert_exporter": "python",
   "pygments_lexer": "ipython3",
   "version": "3.12.7"
  }
 },
 "nbformat": 4,
 "nbformat_minor": 5
}
